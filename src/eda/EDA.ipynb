{
 "cells": [
  {
   "cell_type": "markdown",
   "id": "531e8033",
   "metadata": {},
   "source": [
    "# Remark\n",
    "\n",
    "- Following best practices, we commit this Notebook to git after clearing all output cells\n",
    "- A version of this Notebook with all the outputs can be found in W&B at this [link](https://wandb.ai/marcusreaiche/nyc_airbnb/runs/3s1d5x55/code/EDA.ipynb)\n",
    "- We also save the report as an HTML file (./report.html)"
   ]
  },
  {
   "cell_type": "code",
   "execution_count": null,
   "id": "f91c90c4",
   "metadata": {},
   "outputs": [],
   "source": [
    "import wandb\n",
    "import pandas as pd\n",
    "import pandas_profiling\n",
    "from IPython.display import HTML"
   ]
  },
  {
   "cell_type": "markdown",
   "id": "c11c96ba",
   "metadata": {},
   "source": [
    "# Load data"
   ]
  },
  {
   "cell_type": "code",
   "execution_count": null,
   "id": "e190b917",
   "metadata": {},
   "outputs": [],
   "source": [
    "run = wandb.init(project=\"nyc_airbnb\", group=\"eda\", save_code=True)\n",
    "# changed to v1 since latest is different now\n",
    "local_path = wandb.use_artifact(\"sample.csv:v1\").file() \n",
    "df = pd.read_csv(local_path)"
   ]
  },
  {
   "cell_type": "markdown",
   "id": "51f8c18b",
   "metadata": {},
   "source": [
    "# Generate Report"
   ]
  },
  {
   "cell_type": "code",
   "execution_count": null,
   "id": "7ccc757a",
   "metadata": {},
   "outputs": [],
   "source": [
    "profile = pandas_profiling.ProfileReport(df)"
   ]
  },
  {
   "cell_type": "markdown",
   "id": "dce52fd7",
   "metadata": {},
   "source": [
    "Workaround since to_widgets was not working properly\n",
    "- See also my response to this [StackOverFlow question](https://stackoverflow.com/questions/67738487/pandas-profiling-to-widgets-error-displaying-widget-model-not-found/77131342#77131342)"
   ]
  },
  {
   "cell_type": "code",
   "execution_count": null,
   "id": "2f3f71a8",
   "metadata": {},
   "outputs": [],
   "source": [
    "HTML(profile.to_html())"
   ]
  },
  {
   "cell_type": "markdown",
   "id": "25fb1d07",
   "metadata": {},
   "source": [
    "Log `report.html` to Weights&Biases"
   ]
  },
  {
   "cell_type": "code",
   "execution_count": null,
   "id": "b7dc7a9d",
   "metadata": {},
   "outputs": [],
   "source": [
    "profile.to_file('./report.html')\n",
    "run.log(dict(report=wandb.Html('./report.html')))"
   ]
  },
  {
   "cell_type": "markdown",
   "id": "1af756fd",
   "metadata": {},
   "source": [
    "# Fix Problems\n",
    "\n"
   ]
  },
  {
   "cell_type": "code",
   "execution_count": null,
   "id": "d9d4ee29",
   "metadata": {},
   "outputs": [],
   "source": [
    "clean_df = df.copy()"
   ]
  },
  {
   "cell_type": "markdown",
   "id": "58dc528a",
   "metadata": {},
   "source": [
    "Drop outliers"
   ]
  },
  {
   "cell_type": "code",
   "execution_count": null,
   "id": "7b586596",
   "metadata": {},
   "outputs": [],
   "source": [
    "min_price = 10\n",
    "max_price = 350\n",
    "clean_df = clean_df.loc[clean_df.price.between(min_price, max_price)]\n",
    "clean_df.shape"
   ]
  },
  {
   "cell_type": "markdown",
   "id": "20005ef7",
   "metadata": {},
   "source": [
    "Convert last_review to datetime"
   ]
  },
  {
   "cell_type": "code",
   "execution_count": null,
   "id": "092f9406",
   "metadata": {},
   "outputs": [],
   "source": [
    "clean_df['last_review'] = pd.to_datetime(clean_df['last_review'])\n",
    "clean_df.dtypes"
   ]
  },
  {
   "cell_type": "code",
   "execution_count": null,
   "id": "943b9154",
   "metadata": {},
   "outputs": [],
   "source": [
    "clean_df.info()"
   ]
  },
  {
   "cell_type": "code",
   "execution_count": null,
   "id": "90d3d33a",
   "metadata": {},
   "outputs": [],
   "source": [
    "run.finish()"
   ]
  },
  {
   "cell_type": "code",
   "execution_count": null,
   "id": "69e5c604",
   "metadata": {},
   "outputs": [],
   "source": []
  }
 ],
 "metadata": {
  "kernelspec": {
   "display_name": "Python 3",
   "language": "python",
   "name": "python3"
  },
  "language_info": {
   "codemirror_mode": {
    "name": "ipython",
    "version": 3
   },
   "file_extension": ".py",
   "mimetype": "text/x-python",
   "name": "python",
   "nbconvert_exporter": "python",
   "pygments_lexer": "ipython3",
   "version": "3.8.17"
  }
 },
 "nbformat": 4,
 "nbformat_minor": 5
}
